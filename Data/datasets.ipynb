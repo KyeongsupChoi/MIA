{
 "cells": [
  {
   "cell_type": "code",
   "execution_count": 9,
   "metadata": {
    "pycharm": {
     "is_executing": false
    }
   },
   "outputs": [],
   "source": [
    "import csv"
   ]
  },
  {
   "cell_type": "code",
   "execution_count": 10,
   "metadata": {
    "pycharm": {
     "name": "#%%\n"
    }
   },
   "outputs": [],
   "source": [
    "with open(\"/home/legan/ceib/covid/PADCHEST_chest_x_ray_images_labels_160K_01.02.19.csv\") as f:\n",
    "    r = csv.DictReader(f)\n",
    "    data = [l for l in r]\n",
    "\n"
   ]
  },
  {
   "cell_type": "code",
   "execution_count": 13,
   "metadata": {},
   "outputs": [],
   "source": [
    "normals = [l for l in data if \"'normal'\" in l[\"Labels\"]]\n",
    "pneumonia = [l for l in data if \"pneumonia\" in l[\"Labels\"] and \"infiltrates\" not in l[\"Labels\"]]\n",
    "infiltrates = [l for l in data if \"infiltrates\" in l[\"Labels\"] and \"pneumonia\" not in l[\"Labels\"]]\n",
    "p_i = [l for l in data if \"infiltrates\" in l[\"Labels\"] and \"pneumonia\" in l[\"Labels\"]]\n",
    "not_pneumonia = [l for l in data if \"infiltrates\" not in l[\"Labels\"] if \"pneumonia\" not in l[\"Labels\"] and \"unchanged\" not in l[\"Labels\"]]"
   ]
  },
  {
   "cell_type": "code",
   "execution_count": 14,
   "metadata": {},
   "outputs": [],
   "source": [
    "normals_m = [l for l in normals if l[\"PatientSex_DICOM\"] == 'M']\n",
    "normals_f = [l for l in normals if l[\"PatientSex_DICOM\"] == 'F']"
   ]
  },
  {
   "cell_type": "code",
   "execution_count": 15,
   "metadata": {},
   "outputs": [],
   "source": [
    "pneumonia_m = [l for l in pneumonia if l[\"PatientSex_DICOM\"] == 'M']\n",
    "pneumonia_f = [l for l in pneumonia if l[\"PatientSex_DICOM\"] == 'F']"
   ]
  },
  {
   "cell_type": "code",
   "execution_count": 16,
   "metadata": {},
   "outputs": [],
   "source": [
    "not_pneumonia_m = [l for l in not_pneumonia if l[\"PatientSex_DICOM\"] == 'M']\n",
    "not_pneumonia_f = [l for l in not_pneumonia if l[\"PatientSex_DICOM\"] == 'F']"
   ]
  },
  {
   "cell_type": "code",
   "execution_count": 17,
   "metadata": {},
   "outputs": [],
   "source": [
    "infiltrates_m = [l for l in infiltrates if l[\"PatientSex_DICOM\"] == 'M']\n",
    "infiltrates_f = [l for l in infiltrates if l[\"PatientSex_DICOM\"] == 'F']\n"
   ]
  },
  {
   "cell_type": "code",
   "execution_count": 18,
   "metadata": {},
   "outputs": [],
   "source": [
    "p_i_m = [l for l in p_i if l[\"PatientSex_DICOM\"] == 'M']\n",
    "p_i_f = [l for l in p_i if l[\"PatientSex_DICOM\"] == 'F']\n"
   ]
  },
  {
   "cell_type": "code",
   "execution_count": 19,
   "metadata": {},
   "outputs": [
    {
     "name": "stdout",
     "output_type": "stream",
     "text": [
      "normals 50340\n",
      "pneumonia 5921\n",
      "infiltrates 4836\n",
      "pneumonia and infiltrates 2253\n",
      "not_pneumonia 134524\n",
      "---------------------------\n",
      "normals_m 21414\n",
      "normals_f 28917\n",
      "pneumonia_m 3337\n",
      "pneumonia_f 2584\n",
      "pneumonia_m 3337\n",
      "pneumonia_f 2584\n",
      "infiltrates_m 2772\n",
      "infiltrates_f 2064\n",
      "pneumonia and infiltrates m 1251\n",
      "pneumonia and infiltrates f 1002\n",
      "not_pneumonia_m 65904\n",
      "not_pneumonia_f 68600\n"
     ]
    }
   ],
   "source": [
    "print(\"normals\",len(normals))\n",
    "print(\"pneumonia\",len(pneumonia))\n",
    "print(\"infiltrates\",len(infiltrates))\n",
    "print(\"pneumonia and infiltrates\",len(p_i))\n",
    "print(\"not_pneumonia\",len(not_pneumonia))\n",
    "print(\"---------------------------\")\n",
    "\n",
    "print(\"normals_m\",len(normals_m))\n",
    "print(\"normals_f\",len(normals_f))\n",
    "print(\"pneumonia_m\",len(pneumonia_m))\n",
    "print(\"pneumonia_f\",len(pneumonia_f))\n",
    "print(\"pneumonia_m\",len(pneumonia_m))\n",
    "print(\"pneumonia_f\",len(pneumonia_f))\n",
    "print(\"infiltrates_m\",len(infiltrates_m))\n",
    "print(\"infiltrates_f\",len(infiltrates_f))\n",
    "print(\"pneumonia and infiltrates m\",len(p_i_m))\n",
    "print(\"pneumonia and infiltrates f\",len(p_i_f))\n",
    "print(\"not_pneumonia_m\",len(not_pneumonia_m))\n",
    "print(\"not_pneumonia_f\",len(not_pneumonia_f))"
   ]
  },
  {
   "cell_type": "code",
   "execution_count": 25,
   "metadata": {},
   "outputs": [],
   "source": [
    "datasets = [{\"filename\":\"normals_m.tsv\",\"data\":normals_m},{\"filename\":\"normals_f.tsv\",\"data\":normals_f},\n",
    "            {\"filename\":\"pneumonia_m.tsv\",\"data\":pneumonia_m},{\"filename\":\"pneumonia_f.tsv\",\"data\":pneumonia_f},\n",
    "            {\"filename\":\"infiltrates_m.tsv\",\"data\":pneumonia_m},{\"filename\":\"pneumonia_f.tsv\",\"data\":pneumonia_f},\n",
    "            {\"filename\":\"pneumonia_infiltrates_m.tsv\",\"data\":pneumonia_m},{\"filename\":\"pneumonia_infiltrates_f.tsv\",\"data\":pneumonia_f},\n",
    "            {\"filename\":\"not_pneumonia_m.tsv\",\"data\":not_pneumonia_m},{\"filename\":\"not_pneumonia_f.tsv\",\"data\":not_pneumonia_f}]\n",
    "\n",
    "header = [\"ImageID\",\"StudyDate_DICOM\",\"StudyID\",\"PatientID\",\"PatientBirth\",\"PatientSex_DICOM\",\"ViewPosition_DICOM\",\"Projection\",\"MethodProjection\",\"Pediatric\",\"Modality_DICOM\",\"Manufacturer_DICOM\",\"PhotometricInterpretation_DICOM\",\"PixelRepresentation_DICOM\",\"PixelAspectRatio_DICOM\",\"SpatialResolution_DICOM\",\"BitsStored_DICOM\",\"WindowCenter_DICOM\",\"WindowWidth_DICOM\",\"Rows_DICOM\",\"Columns_DICOM\",\"XRayTubeCurrent_DICOM\",\"Exposure_DICOM\",\"ExposureInuAs_DICOM\",\"ExposureTime\",\"RelativeXRayExposure_DICOM\",\"Labels\"]\n",
    "for d in datasets:\n",
    "    with open(d[\"filename\"], \"w\") as f:\n",
    "        w = csv.DictWriter(f, header, delimiter='\\t', extrasaction='ignore')\n",
    "        w.writeheader()\n",
    "        for l in d[\"data\"]:\n",
    "            w.writerow(l)"
   ]
  },
  {
   "cell_type": "code",
   "execution_count": 26,
   "metadata": {},
   "outputs": [],
   "source": [
    "header2 = header+['group']\n",
    "with open(\"dataset.tsv\", \"w\") as f:\n",
    "    w = csv.DictWriter(f, header, delimiter='\\t', extrasaction='ignore')\n",
    "    w.writeheader()\n",
    "    for l in pneumonia:\n",
    "        w.writerow({**l,**{\"group\":'n'}})\n",
    "        \n",
    "    for l in infiltrates:\n",
    "        w.writerow({**l,**{\"group\":'i'}})\n",
    "        \n",
    "    for l in p_i:\n",
    "        w.writerow({**l,**{\"group\":'ni'}})\n",
    "        \n",
    "    for l in normals[:6505]:\n",
    "        w.writerow({**l,**{\"group\":'c'}})\n",
    "        \n",
    "    for l in not_pneumonia[:6505]:\n",
    "        w.writerow({**l,**{\"group\":'c'}})\n",
    "    "
   ]
  },
  {
   "cell_type": "code",
   "execution_count": null,
   "metadata": {},
   "outputs": [],
   "source": []
  }
 ],
 "metadata": {
  "kernelspec": {
   "display_name": "Python 3",
   "language": "python",
   "name": "python3"
  },
  "language_info": {
   "codemirror_mode": {
    "name": "ipython",
    "version": 3
   },
   "file_extension": ".py",
   "mimetype": "text/x-python",
   "name": "python",
   "nbconvert_exporter": "python",
   "pygments_lexer": "ipython3",
   "version": "3.8.1"
  },
  "pycharm": {
   "stem_cell": {
    "cell_type": "raw",
    "metadata": {
     "collapsed": false
    },
    "source": []
   }
  }
 },
 "nbformat": 4,
 "nbformat_minor": 1
}
